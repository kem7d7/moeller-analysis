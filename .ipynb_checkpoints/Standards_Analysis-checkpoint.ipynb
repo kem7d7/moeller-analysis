{
 "cells": [
  {
   "cell_type": "code",
   "execution_count": 67,
   "metadata": {
    "collapsed": true
   },
   "outputs": [],
   "source": [
    "import csv\n",
    "import agate"
   ]
  },
  {
   "cell_type": "code",
   "execution_count": 68,
   "metadata": {
    "collapsed": false
   },
   "outputs": [],
   "source": [
    "tester = agate.TypeTester()"
   ]
  },
  {
   "cell_type": "code",
   "execution_count": 69,
   "metadata": {
    "collapsed": false
   },
   "outputs": [],
   "source": [
    "standards = agate.Table.from_csv('english.csv', tester)"
   ]
  },
  {
   "cell_type": "code",
   "execution_count": 74,
   "metadata": {
    "collapsed": false
   },
   "outputs": [
    {
     "name": "stdout",
     "output_type": "stream",
     "text": [
      "|-----------------+-----------------+--------------------------+-----------+-----------------+-----------+-----------+-----------+----------+---------------------------+----------------------------------------|\n",
      "|  YEAR_TITLE_III | COUNTY_DISTRICT | COUNTY_DISTRICT_NAME     | TITLE_III | YEAR_ASSESSMENT | AMAO1_MET | AMAO2_MET | AMAO3_MET | AMAO_MET | CONSECUTIVE_YEARS_NOT_MET | TITLE_III_STATUS                       |\n",
      "|-----------------+-----------------+--------------------------+-----------+-----------------+-----------+-----------+-----------+----------+---------------------------+----------------------------------------|\n",
      "|           2,014 |           5,120 | WHEATON R-III            |      True |           2,013 | MET       | MET       | NOT MET   | NOT MET  |                         6 | Title III District Improvement Year 4  |\n",
      "|           2,014 |          10,093 | COLUMBIA 93              |      True |           2,013 | MET       | MET       | NOT MET   | NOT MET  |                         6 | Title III District Improvement Year 4  |\n",
      "|           2,014 |          15,002 | CAMDENTON R-III          |      True |           2,013 | MET       | MET       | NOT MET   | NOT MET  |                         6 | Title III District Improvement Year 4  |\n",
      "|           2,014 |          16,096 | CAPE GIRARDEAU 63        |      True |           2,013 | MET       | MET       | NOT MET   | NOT MET  |                         6 | Title III District Improvement Year 4  |\n",
      "|           2,014 |          24,093 | NORTH KANSAS CITY 74     |      True |           2,013 | MET       | MET       | NOT MET   | NOT MET  |                         6 | Title III District Improvement Year 4  |\n",
      "|           2,014 |          26,006 | JEFFERSON CITY           |      True |           2,013 | MET       | MET       | NOT MET   | NOT MET  |                         6 | Title III District Improvement Year 4  |\n",
      "|           2,014 |          35,098 | SENATH-HORNERSVILLE C-8  |      True |           2,013 | MET       | NOT MET   | NOT MET   | NOT MET  |                         6 | Title III District Improvement Year 4  |\n",
      "|           2,014 |          39,141 | SPRINGFIELD R-XII        |      True |           2,013 | MET       | MET       | NOT MET   | NOT MET  |                         6 | Title III District Improvement Year 4  |\n",
      "|           2,014 |          46,131 | WILLOW SPRINGS R-IV      |      True |           2,013 | MET       | NOT MET   | NOT MET   | NOT MET  |                         6 | Title III District Improvement Year 4  |\n",
      "|           2,014 |          48,068 | BLUE SPRINGS R-IV        |      True |           2,013 | MET       | MET       | NOT MET   | NOT MET  |                         6 | Title III District Improvement Year 4  |\n",
      "|           2,014 |          48,072 | HICKMAN MILLS C-1        |      True |           2,013 | MET       | MET       | NOT MET   | NOT MET  |                         6 | Title III District Improvement Year 4  |\n",
      "|           2,014 |          48,073 | RAYTOWN C-2              |      True |           2,013 | MET       | MET       | NOT MET   | NOT MET  |                         6 | Title III District Improvement Year 4  |\n",
      "|           2,014 |          48,074 | GRANDVIEW C-4            |      True |           2,013 | MET       | MET       | NOT MET   | NOT MET  |                         6 | Title III District Improvement Year 4  |\n",
      "|           2,014 |          48,077 | INDEPENDENCE 30          |      True |           2,013 | MET       | MET       | NOT MET   | NOT MET  |                         6 | Title III District Improvement Year 4  |\n",
      "|           2,014 |          48,078 | KANSAS CITY 33           |      True |           2,013 | MET       | NOT MET   | NOT MET   | NOT MET  |                         6 | Title III District Improvement Year 4  |\n",
      "|           2,014 |          48,912 | DELLA LAMB ELEM.         |      True |           2,013 | MET       | NOT MET   | NOT MET   | NOT MET  |                         6 | Title III District Improvement Year 4  |\n",
      "|           2,014 |          48,915 | SCUOLA VITA NUOVA        |      True |           2,013 | MET       | NOT MET   | NOT MET   | NOT MET  |                         6 | Title III District Improvement Year 4  |\n",
      "|           2,014 |          49,142 | CARTHAGE R-IX            |      True |           2,013 | MET       | MET       | NOT MET   | NOT MET  |                         6 | Title III District Improvement Year 4  |\n",
      "|           2,014 |          49,148 | JOPLIN SCHOOLS           |      True |           2,013 | MET       | MET       | NOT MET   | NOT MET  |                         6 | Title III District Improvement Year 4  |\n",
      "|           2,014 |          57,003 | TROY R-III               |      True |           2,013 | MET       | MET       | NOT MET   | NOT MET  |                         6 | Title III District Improvement Year 4  |\n",
      "|           2,014 |          60,077 | MCDONALD CO. R-I         |      True |           2,013 | MET       | MET       | NOT MET   | NOT MET  |                         6 | Title III District Improvement Year 4  |\n",
      "|           2,014 |          68,070 | MONITEAU CO. R-I         |      True |           2,013 | MET       | NOT MET   | NOT MET   | NOT MET  |                         6 | Title III District Improvement Year 4  |\n",
      "|           2,014 |          73,108 | NEOSHO R-V               |      True |           2,013 | MET       | MET       | NOT MET   | NOT MET  |                         6 | Title III District Improvement Year 4  |\n",
      "|           2,014 |          80,118 | LA MONTE R-IV            |      True |           2,013 | MET       | NOT MET   | NOT MET   | NOT MET  |                         6 | Title III District Improvement Year 4  |\n",
      "|           2,014 |          80,125 | SEDALIA 200              |      True |           2,013 | MET       | MET       | NOT MET   | NOT MET  |                         6 | Title III District Improvement Year 4  |\n",
      "|           2,014 |          92,087 | FT. ZUMWALT R-II         |      True |           2,013 | MET       | MET       | NOT MET   | NOT MET  |                         6 | Title III District Improvement Year 4  |\n",
      "|           2,014 |          92,090 | ST. CHARLES R-VI         |      True |           2,013 | MET       | MET       | NOT MET   | NOT MET  |                         6 | Title III District Improvement Year 4  |\n",
      "|           2,014 |          96,088 | HAZELWOOD                |      True |           2,013 | MET       | MET       | NOT MET   | NOT MET  |                         6 | Title III District Improvement Year 4  |\n",
      "|           2,014 |          96,089 | FERGUSON-FLORISSANT R-II |      True |           2,013 | MET       | MET       | NOT MET   | NOT MET  |                         6 | Title III District Improvement Year 4  |\n",
      "|           2,014 |          96,098 | AFFTON 101               |      True |           2,013 | MET       | MET       | NOT MET   | NOT MET  |                         6 | Title III District Improvement Year 4  |\n",
      "|           2,014 |          96,103 | HANCOCK PLACE            |      True |           2,013 | NOT MET   | MET       | NOT MET   | NOT MET  |                         6 | Title III District Improvement Year 4  |\n",
      "|           2,014 |          96,110 | RITENOUR                 |      True |           2,013 | MET       | NOT MET   | NOT MET   | NOT MET  |                         6 | Title III District Improvement Year 4  |\n",
      "|           2,014 |          97,129 | MARSHALL                 |      True |           2,013 | MET       | MET       | NOT MET   | NOT MET  |                         6 | Title III District Improvement Year 4  |\n",
      "|           2,014 |         105,124 | MILAN C-2                |      True |           2,013 | MET       | MET       | NOT MET   | NOT MET  |                         6 | Title III District Improvement Year 4  |\n",
      "|           2,014 |         115,115 | ST. LOUIS CITY           |      True |           2,013 | MET       | MET       | NOT MET   | NOT MET  |                         6 | Title III District Improvement Year 4  |\n",
      "|           2,014 |         115,903 | ST. LOUIS CHARTER SCHOOL |      True |           2,013 | MET       | NOT MET   | NOT MET   | NOT MET  |                         6 | Title III District Improvement Year 4  |\n",
      "|           2,014 |         115,906 | CONFLUENCE ACADEMIES     |      True |           2,013 | MET       | MET       | NOT MET   | NOT MET  |                         6 | Title III District Improvement Year 4  |\n",
      "|           2,015 |           4,110 | MEXICO 59                |      True |           2,014 | MET       | NOT MET   | NOT MET   | NOT MET  |                         6 | Title III District Improvement Year 4  |\n",
      "|           2,015 |           5,124 | PURDY R-II               |      True |           2,014 | MET       | NOT MET   | NOT MET   | NOT MET  |                         6 | Title III District Improvement Year 4  |\n",
      "|           2,015 |          11,082 | ST. JOSEPH               |      True |           2,014 | MET       | MET       | NOT MET   | NOT MET  |                         6 | Title III District Improvement Year 4  |\n",
      "|           2,015 |          24,090 | LIBERTY 53               |      True |           2,014 | MET       | MET       | NOT MET   | NOT MET  |                         6 | Title III District Improvement Year 4  |\n",
      "|           2,015 |          39,133 | WILLARD R-II             |      True |           2,014 | MET       | MET       | NOT MET   | NOT MET  |                         6 | Title III District Improvement Year 4  |\n",
      "|           2,015 |          48,071 | LEE'S SUMMIT R-VII       |      True |           2,014 | MET       | MET       | NOT MET   | NOT MET  |                         6 | Title III District Improvement Year 4  |\n",
      "|           2,015 |          50,012 | FOX C-6                  |      True |           2,014 | MET       | MET       | NOT MET   | NOT MET  |                         6 | Title III District Improvement Year 4  |\n",
      "|           2,015 |          96,099 | BAYLESS                  |      True |           2,014 | MET       | NOT MET   | NOT MET   | NOT MET  |                         6 | Title III District Improvement Year 4  |\n",
      "|-----------------+-----------------+--------------------------+-----------+-----------------+-----------+-----------+-----------+----------+---------------------------+----------------------------------------|\n"
     ]
    }
   ],
   "source": [
    "six_years_not_met = standards.where(lambda row: row['CONSECUTIVE_YEARS_NOT_MET'] == 6)\n",
    "six_years_not_met.print_table()"
   ]
  },
  {
   "cell_type": "code",
   "execution_count": 82,
   "metadata": {
    "collapsed": false
   },
   "outputs": [
    {
     "name": "stdout",
     "output_type": "stream",
     "text": [
      "|-----------------+-----------------+----------------------+-----------+-----------------+-----------+-----------+-----------+----------+---------------------------+-------------------------|\n",
      "|  YEAR_TITLE_III | COUNTY_DISTRICT | COUNTY_DISTRICT_NAME | TITLE_III | YEAR_ASSESSMENT | AMAO1_MET | AMAO2_MET | AMAO3_MET | AMAO_MET | CONSECUTIVE_YEARS_NOT_MET | TITLE_III_STATUS        |\n",
      "|-----------------+-----------------+----------------------+-----------+-----------------+-----------+-----------+-----------+----------+---------------------------+-------------------------|\n",
      "|           2,015 |          96,102 | CLAYTON              |      True |           2,014 | MET       | MET       | MET       | MET      |                         0 | Title III No Sanctions  |\n",
      "|-----------------+-----------------+----------------------+-----------+-----------------+-----------+-----------+-----------+----------+---------------------------+-------------------------|\n"
     ]
    }
   ],
   "source": [
    "no_sanctions = standards.where(lambda row: row['TITLE_III_STATUS'] == 'Title III No Sanctions').where(lambda row: row['YEAR_ASSESSMENT'] == 2014)\n",
    "no_sanctions.print_table()"
   ]
  },
  {
   "cell_type": "code",
   "execution_count": 73,
   "metadata": {
    "collapsed": false
   },
   "outputs": [
    {
     "name": "stdout",
     "output_type": "stream",
     "text": [
      "45\n"
     ]
    }
   ],
   "source": [
    "num_schools_six_years_not_met = len(six_years_not_met.rows)\n",
    "print num_schools_six_years_not_met"
   ]
  },
  {
   "cell_type": "code",
   "execution_count": 76,
   "metadata": {
    "collapsed": false
   },
   "outputs": [
    {
     "name": "stdout",
     "output_type": "stream",
     "text": [
      "|-----------------+-----------------+-------------------------+-----------+-----------------+-----------+-----------+-----------+----------+---------------------------+-------------------|\n",
      "|  YEAR_TITLE_III | COUNTY_DISTRICT | COUNTY_DISTRICT_NAME    | TITLE_III | YEAR_ASSESSMENT | AMAO1_MET | AMAO2_MET | AMAO3_MET | AMAO_MET | CONSECUTIVE_YEARS_NOT_MET | TITLE_III_STATUS  |\n",
      "|-----------------+-----------------+-------------------------+-----------+-----------------+-----------+-----------+-----------+----------+---------------------------+-------------------|\n",
      "|           2,015 |           2,097 | SAVANNAH R-III          |           |           2,014 | NOT MET   | NOT MET   |           | NOT MET  |                         0 |                   |\n",
      "|           2,015 |          10,089 | HALLSVILLE R-IV         |           |           2,014 | NOT MET   | NOT MET   |           | NOT MET  |                         0 |                   |\n",
      "|           2,015 |          14,129 | FULTON 58               |           |           2,014 | NOT MET   | NOT MET   |           | NOT MET  |                         0 |                   |\n",
      "|           2,015 |          19,149 | HARRISONVILLE R-IX      |           |           2,014 | NOT MET   | MET       |           | NOT MET  |                         0 |                   |\n",
      "|           2,015 |          19,150 | DREXEL R-IV             |           |           2,014 | NOT MET   | NOT MET   |           | NOT MET  |                         0 |                   |\n",
      "|           2,015 |          22,094 | SPOKANE R-VII           |           |           2,014 | NOT MET   | NOT MET   |           | NOT MET  |                         0 |                   |\n",
      "|           2,015 |          25,003 | CLINTON CO. R-III       |           |           2,014 | NOT MET   | NOT MET   |           | NOT MET  |                         0 |                   |\n",
      "|           2,015 |          27,061 | BOONVILLE R-I           |           |           2,014 | NOT MET   | NOT MET   |           | NOT MET  |                         0 |                   |\n",
      "|           2,015 |          28,102 | CRAWFORD CO. R-II       |           |           2,014 | NOT MET   | NOT MET   |           | NOT MET  |                         0 |                   |\n",
      "|           2,015 |          29,004 | GREENFIELD R-IV         |           |           2,014 | NOT MET   | NOT MET   |           | NOT MET  |                         0 |                   |\n",
      "|           2,015 |          35,093 | CAMPBELL R-II           |           |           2,014 | NOT MET   | NOT MET   |           | NOT MET  |                         0 |                   |\n",
      "|           2,015 |          35,094 | HOLCOMB R-III           |           |           2,014 | NOT MET   | NOT MET   |           | NOT MET  |                         0 |                   |\n",
      "|           2,015 |          35,099 | SOUTHLAND C-9           |           |           2,014 | NOT MET   | NOT MET   |           | NOT MET  |                         0 |                   |\n",
      "|           2,015 |          36,126 | MERAMEC VALLEY R-III    |           |           2,014 | NOT MET   | NOT MET   |           | NOT MET  |                         0 |                   |\n",
      "|           2,015 |          36,131 | UNION R-XI              |           |           2,014 | NOT MET   | MET       |           | NOT MET  |                         0 |                   |\n",
      "|           2,015 |          36,138 | NEW HAVEN               |           |           2,014 | NOT MET   | NOT MET   |           | NOT MET  |                         0 |                   |\n",
      "|           2,015 |          37,037 | GASCONADE CO. R-II      |           |           2,014 | NOT MET   | MET       |           | NOT MET  |                         0 |                   |\n",
      "|           2,015 |          39,135 | ASH GROVE R-IV          |           |           2,014 | NOT MET   | NOT MET   |           | NOT MET  |                         0 |                   |\n",
      "|           2,015 |          39,137 | STRAFFORD R-VI          |           |           2,014 | NOT MET   | NOT MET   |           | NOT MET  |                         0 |                   |\n",
      "|           2,015 |          39,142 | FAIR GROVE R-X          |           |           2,014 | NOT MET   | NOT MET   |           | NOT MET  |                         0 |                   |\n",
      "|           2,015 |          40,107 | TRENTON R-IX            |           |           2,014 | NOT MET   | NOT MET   |           | NOT MET  |                         0 |                   |\n",
      "|           2,015 |          48,069 | GRAIN VALLEY R-V        |           |           2,014 | NOT MET   | NOT MET   |           | NOT MET  |                         0 |                   |\n",
      "|           2,015 |          48,901 | UNIVERSITY ACADEMY      |           |           2,014 | NOT MET   | NOT MET   |           | NOT MET  |                         0 |                   |\n",
      "|           2,015 |          48,914 | ACADEMIE LAFAYETTE      |           |           2,014 | NOT MET   | MET       |           | NOT MET  |                         0 |                   |\n",
      "|           2,015 |          48,918 | KIPP: ENDEAVOR ACADEMY  |           |           2,014 | NOT MET   | MET       | NOT MET   | NOT MET  |                         0 |                   |\n",
      "|           2,015 |          49,140 | SARCOXIE R-II           |           |           2,014 | NOT MET   | NOT MET   |           | NOT MET  |                         0 |                   |\n",
      "|           2,015 |          50,005 | DUNKLIN R-V             |           |           2,014 | NOT MET   | NOT MET   |           | NOT MET  |                         0 |                   |\n",
      "|           2,015 |          51,154 | JOHNSON CO. R-VII       |           |           2,014 | NOT MET   | NOT MET   |           | NOT MET  |                         0 |                   |\n",
      "|           2,015 |          51,156 | LEETON R-X              |           |           2,014 | NOT MET   | NOT MET   |           | NOT MET  |                         0 |                   |\n",
      "|           2,015 |          58,109 | MARCELINE R-V           |           |           2,014 | NOT MET   | NOT MET   |           | NOT MET  |                         0 |                   |\n",
      "|           2,015 |          59,117 | CHILLICOTHE R-II        |           |           2,014 | NOT MET   | NOT MET   |           | NOT MET  |                         0 |                   |\n",
      "|           2,015 |          66,102 | ELDON R-I               |           |           2,014 | NOT MET   | NOT MET   |           | NOT MET  |                         0 |                   |\n",
      "|           2,015 |          66,105 | SCHOOL OF THE OSAGE     |           |           2,014 | NOT MET   | NOT MET   |           | NOT MET  |                         0 |                   |\n",
      "|           2,015 |          67,055 | EAST PRAIRIE R-II       |           |           2,014 | NOT MET   | NOT MET   |           | NOT MET  |                         0 |                   |\n",
      "|           2,015 |          75,086 | OREGON-HOWELL R-III     |           |           2,014 | NOT MET   | NOT MET   |           | NOT MET  |                         0 |                   |\n",
      "|           2,015 |          80,116 | PETTIS CO. R-V          |           |           2,014 | NOT MET   | NOT MET   |           | NOT MET  |                         0 |                   |\n",
      "|           2,015 |          82,108 | LOUISIANA R-II          |           |           2,014 | NOT MET   | NOT MET   |           | NOT MET  |                         0 |                   |\n",
      "|           2,015 |          84,005 | MARION C. EARLY R-V     |           |           2,014 | NOT MET   | NOT MET   |           | NOT MET  |                         0 |                   |\n",
      "|           2,015 |          85,048 | DIXON R-I               |           |           2,014 | NOT MET   | NOT MET   |           | NOT MET  |                         0 |                   |\n",
      "|           2,015 |          85,049 | CROCKER R-II            |           |           2,014 | NOT MET   | NOT MET   |           | NOT MET  |                         0 |                   |\n",
      "|           2,015 |          88,081 | MOBERLY                 |           |           2,014 | NOT MET   | MET       |           | NOT MET  |                         0 |                   |\n",
      "|           2,015 |          89,089 | RICHMOND R-XVI          |           |           2,014 | NOT MET   | NOT MET   |           | NOT MET  |                         0 |                   |\n",
      "|           2,015 |          90,078 | LESTERVILLE R-IV        |           |           2,014 | NOT MET   | NOT MET   |           | NOT MET  |                         0 |                   |\n",
      "|           2,015 |          92,091 | ORCHARD FARM R-V        |           |           2,014 | NOT MET   | NOT MET   |           | NOT MET  |                         0 |                   |\n",
      "|           2,015 |          95,059 | STE. GENEVIEVE CO. R-II |           |           2,014 | NOT MET   | NOT MET   |           | NOT MET  |                         0 |                   |\n",
      "|           2,015 |          96,104 | JENNINGS                |           |           2,014 | NOT MET   | NOT MET   |           | NOT MET  |                         0 |                   |\n",
      "|           2,015 |          97,130 | SLATER                  |           |           2,014 | NOT MET   | NOT MET   |           | NOT MET  |                         0 |                   |\n",
      "|           2,015 |         100,063 | SIKESTON R-6            |           |           2,014 | NOT MET   | NOT MET   |           | NOT MET  |                         0 |                   |\n",
      "|           2,015 |         103,132 | DEXTER R-XI             |           |           2,014 | NOT MET   | NOT MET   |           | NOT MET  |                         0 |                   |\n",
      "|           2,015 |         103,135 | BERNIE R-XIII           |           |           2,014 | NOT MET   | NOT MET   |           | NOT MET  |                         0 |                   |\n",
      "|           2,015 |         104,044 | REEDS SPRING R-IV       |           |           2,014 | NOT MET   | NOT MET   |           | NOT MET  |                         0 |                   |\n",
      "|           2,015 |         106,005 | HOLLISTER R-V           |           |           2,014 | NOT MET   | NOT MET   | NOT MET   | NOT MET  |                         0 |                   |\n",
      "|           2,015 |         112,103 | SEYMOUR R-II            |           |           2,014 | NOT MET   | NOT MET   |           | NOT MET  |                         0 |                   |\n",
      "|-----------------+-----------------+-------------------------+-----------+-----------------+-----------+-----------+-----------+----------+---------------------------+-------------------|\n"
     ]
    }
   ],
   "source": [
    "schools_not_meeting_AMAO1_2014 = standards.where(lambda row: row['AMAO1_MET'] == \"NOT MET\" ).where (lambda row: row ['YEAR_ASSESSMENT'] == 2014)\n",
    "schools_not_meeting_AMAO1_2014.print_table()"
   ]
  },
  {
   "cell_type": "code",
   "execution_count": 77,
   "metadata": {
    "collapsed": false
   },
   "outputs": [
    {
     "name": "stdout",
     "output_type": "stream",
     "text": [
      "53\n"
     ]
    }
   ],
   "source": [
    "num_schools_not_meeting_AMAO1_2014 = len(schools_not_meeting_AMAO1_2014.rows)\n",
    "print num_schools_not_meeting_AMAO1_2014"
   ]
  },
  {
   "cell_type": "code",
   "execution_count": 78,
   "metadata": {
    "collapsed": false
   },
   "outputs": [
    {
     "name": "stdout",
     "output_type": "stream",
     "text": [
      "|-----------------+-----------------+--------------------------------+-----------+-----------------+-----------+-----------+-----------+----------+---------------------------+----------------------------------------|\n",
      "|  YEAR_TITLE_III | COUNTY_DISTRICT | COUNTY_DISTRICT_NAME           | TITLE_III | YEAR_ASSESSMENT | AMAO1_MET | AMAO2_MET | AMAO3_MET | AMAO_MET | CONSECUTIVE_YEARS_NOT_MET | TITLE_III_STATUS                       |\n",
      "|-----------------+-----------------+--------------------------------+-----------+-----------------+-----------+-----------+-----------+----------+---------------------------+----------------------------------------|\n",
      "|           2,015 |           2,090 | AVENUE CITY R-IX               |           |           2,014 | MET       | NOT MET   |           | NOT MET  |                         0 |                                        |\n",
      "|           2,015 |           2,097 | SAVANNAH R-III                 |           |           2,014 | NOT MET   | NOT MET   |           | NOT MET  |                         0 |                                        |\n",
      "|           2,015 |           4,110 | MEXICO 59                      |      True |           2,014 | MET       | NOT MET   | NOT MET   | NOT MET  |                         6 | Title III District Improvement Year 4  |\n",
      "|           2,015 |           5,120 | WHEATON R-III                  |           |           2,014 | MET       | NOT MET   | NOT MET   | NOT MET  |                         0 |                                        |\n",
      "|           2,015 |           5,121 | SOUTHWEST R-V                  |           |           2,014 | MET       | NOT MET   |           | NOT MET  |                         0 |                                        |\n",
      "|           2,015 |           5,122 | EXETER R-VI                    |           |           2,014 | MET       | NOT MET   |           | NOT MET  |                         0 |                                        |\n",
      "|           2,015 |           5,124 | PURDY R-II                     |      True |           2,014 | MET       | NOT MET   | NOT MET   | NOT MET  |                         6 | Title III District Improvement Year 4  |\n",
      "|           2,015 |           6,104 | LAMAR R-I                      |           |           2,014 | MET       | NOT MET   |           | NOT MET  |                         0 |                                        |\n",
      "|           2,015 |           8,111 | COLE CAMP R-I                  |           |           2,014 | MET       | NOT MET   |           | NOT MET  |                         0 |                                        |\n",
      "|           2,015 |          10,087 | SOUTHERN BOONE CO. R-I         |           |           2,014 | MET       | NOT MET   |           | NOT MET  |                         0 |                                        |\n",
      "|           2,015 |          10,089 | HALLSVILLE R-IV                |           |           2,014 | NOT MET   | NOT MET   |           | NOT MET  |                         0 |                                        |\n",
      "|           2,015 |          10,092 | HARRISBURG R-VIII              |           |           2,014 | MET       | NOT MET   |           | NOT MET  |                         0 |                                        |\n",
      "|           2,015 |          11,078 | MID-BUCHANAN CO. R-V           |           |           2,014 | MET       | NOT MET   |           | NOT MET  |                         0 |                                        |\n",
      "|           2,015 |          12,109 | POPLAR BLUFF R-I               |           |           2,014 | MET       | NOT MET   |           | NOT MET  |                         0 |                                        |\n",
      "|           2,015 |          14,126 | NORTH CALLAWAY CO. R-I         |           |           2,014 |           | NOT MET   |           | NOT MET  |                         0 |                                        |\n",
      "|           2,015 |          14,127 | NEW BLOOMFIELD R-III           |           |           2,014 | MET       | NOT MET   |           | NOT MET  |                         0 |                                        |\n",
      "|           2,015 |          14,129 | FULTON 58                      |           |           2,014 | NOT MET   | NOT MET   |           | NOT MET  |                         0 |                                        |\n",
      "|           2,015 |          15,004 | MACKS CREEK R-V                |           |           2,014 | MET       | NOT MET   |           | NOT MET  |                         0 |                                        |\n",
      "|           2,015 |          16,090 | JACKSON R-II                   |           |           2,014 | MET       | NOT MET   |           | NOT MET  |                         0 |                                        |\n",
      "|           2,015 |          19,139 | ARCHIE R-V                     |           |           2,014 | MET       | NOT MET   |           | NOT MET  |                         0 |                                        |\n",
      "|           2,015 |          19,150 | DREXEL R-IV                    |           |           2,014 | NOT MET   | NOT MET   |           | NOT MET  |                         0 |                                        |\n",
      "|           2,015 |          19,152 | BELTON 124                     |      True |           2,014 | MET       | NOT MET   | NOT MET   | NOT MET  |                         2 | Title III District Improvement Year 2  |\n",
      "|           2,015 |          22,094 | SPOKANE R-VII                  |           |           2,014 | NOT MET   | NOT MET   |           | NOT MET  |                         0 |                                        |\n",
      "|           2,015 |          24,086 | KEARNEY R-I                    |           |           2,014 | MET       | NOT MET   |           | NOT MET  |                         0 |                                        |\n",
      "|           2,015 |          24,087 | SMITHVILLE R-II                |           |           2,014 | MET       | NOT MET   |           | NOT MET  |                         0 |                                        |\n",
      "|           2,015 |          24,089 | EXCELSIOR SPRINGS 40           |           |           2,014 | MET       | NOT MET   |           | NOT MET  |                         0 |                                        |\n",
      "|           2,015 |          25,001 | CAMERON R-I                    |           |           2,014 | MET       | NOT MET   |           | NOT MET  |                         0 |                                        |\n",
      "|           2,015 |          25,003 | CLINTON CO. R-III              |           |           2,014 | NOT MET   | NOT MET   |           | NOT MET  |                         0 |                                        |\n",
      "|           2,015 |          27,061 | BOONVILLE R-I                  |           |           2,014 | NOT MET   | NOT MET   |           | NOT MET  |                         0 |                                        |\n",
      "|           2,015 |          28,102 | CRAWFORD CO. R-II              |           |           2,014 | NOT MET   | NOT MET   |           | NOT MET  |                         0 |                                        |\n",
      "|           2,015 |          29,001 | LOCKWOOD R-I                   |           |           2,014 | MET       | NOT MET   |           | NOT MET  |                         0 |                                        |\n",
      "|           2,015 |          29,004 | GREENFIELD R-IV                |           |           2,014 | NOT MET   | NOT MET   |           | NOT MET  |                         0 |                                        |\n",
      "|           2,015 |          30,093 | DALLAS CO. R-I                 |           |           2,014 | MET       | NOT MET   |           | NOT MET  |                         0 |                                        |\n",
      "|           2,015 |          31,121 | GALLATIN R-V                   |           |           2,014 |           | NOT MET   |           | NOT MET  |                         0 |                                        |\n",
      "|           2,015 |          33,090 | SALEM R-80                     |           |           2,014 | MET       | NOT MET   |           | NOT MET  |                         0 |                                        |\n",
      "|           2,015 |          35,092 | MALDEN R-I                     |           |           2,014 | MET       | NOT MET   |           | NOT MET  |                         0 |                                        |\n",
      "|           2,015 |          35,093 | CAMPBELL R-II                  |           |           2,014 | NOT MET   | NOT MET   |           | NOT MET  |                         0 |                                        |\n",
      "|           2,015 |          35,094 | HOLCOMB R-III                  |           |           2,014 | NOT MET   | NOT MET   |           | NOT MET  |                         0 |                                        |\n",
      "|           2,015 |          35,097 | CLARKTON C-4                   |           |           2,014 | MET       | NOT MET   | NOT MET   | NOT MET  |                         0 |                                        |\n",
      "|           2,015 |          35,098 | SENATH-HORNERSVILLE C-8        |      True |           2,014 | MET       | NOT MET   | NOT MET   | NOT MET  |                         7 | Title III District Improvement Year 4  |\n",
      "|           2,015 |          35,099 | SOUTHLAND C-9                  |           |           2,014 | NOT MET   | NOT MET   |           | NOT MET  |                         0 |                                        |\n",
      "|           2,015 |          35,102 | KENNETT 39                     |           |           2,014 | MET       | NOT MET   |           | NOT MET  |                         0 |                                        |\n",
      "|           2,015 |          36,126 | MERAMEC VALLEY R-III           |           |           2,014 | NOT MET   | NOT MET   |           | NOT MET  |                         0 |                                        |\n",
      "|           2,015 |          36,137 | SULLIVAN                       |           |           2,014 | MET       | NOT MET   |           | NOT MET  |                         0 |                                        |\n",
      "|           2,015 |          36,138 | NEW HAVEN                      |           |           2,014 | NOT MET   | NOT MET   |           | NOT MET  |                         0 |                                        |\n",
      "|           2,015 |          36,139 | WASHINGTON                     |      True |           2,014 | MET       | NOT MET   | NOT MET   | NOT MET  |                         4 | Title III District Improvement Year 4  |\n",
      "|           2,015 |          37,039 | GASCONADE CO. R-I              |           |           2,014 |           | NOT MET   |           | NOT MET  |                         0 |                                        |\n",
      "|           2,015 |          38,046 | ALBANY R-III                   |           |           2,014 |           | NOT MET   |           | NOT MET  |                         0 |                                        |\n",
      "|           2,015 |          39,135 | ASH GROVE R-IV                 |           |           2,014 | NOT MET   | NOT MET   |           | NOT MET  |                         0 |                                        |\n",
      "|           2,015 |          39,137 | STRAFFORD R-VI                 |           |           2,014 | NOT MET   | NOT MET   |           | NOT MET  |                         0 |                                        |\n",
      "|           2,015 |          39,142 | FAIR GROVE R-X                 |           |           2,014 | NOT MET   | NOT MET   |           | NOT MET  |                         0 |                                        |\n",
      "|           2,015 |          40,104 | LAREDO R-VII                   |           |           2,014 |           | NOT MET   |           | NOT MET  |                         0 |                                        |\n",
      "|           2,015 |          40,107 | TRENTON R-IX                   |           |           2,014 | NOT MET   | NOT MET   |           | NOT MET  |                         0 |                                        |\n",
      "|           2,015 |          41,002 | SOUTH HARRISON CO. R-II        |           |           2,014 | MET       | NOT MET   |           | NOT MET  |                         0 |                                        |\n",
      "|           2,015 |          42,111 | HENRY CO. R-I                  |           |           2,014 | MET       | NOT MET   |           | NOT MET  |                         0 |                                        |\n",
      "|           2,015 |          42,124 | CLINTON                        |           |           2,014 | MET       | NOT MET   |           | NOT MET  |                         0 |                                        |\n",
      "|           2,015 |          45,077 | FAYETTE R-III                  |           |           2,014 | MET       | NOT MET   |           | NOT MET  |                         0 |                                        |\n",
      "|           2,015 |          46,130 | MOUNTAIN VIEW-BIRCH TREE R-III |           |           2,014 | MET       | NOT MET   |           | NOT MET  |                         0 |                                        |\n",
      "|           2,015 |          46,131 | WILLOW SPRINGS R-IV            |      True |           2,014 | MET       | NOT MET   | NOT MET   | NOT MET  |                         7 | Title III District Improvement Year 4  |\n",
      "|           2,015 |          47,062 | ARCADIA VALLEY R-II            |           |           2,014 | MET       | NOT MET   |           | NOT MET  |                         0 |                                        |\n",
      "|           2,015 |          48,069 | GRAIN VALLEY R-V               |           |           2,014 | NOT MET   | NOT MET   |           | NOT MET  |                         0 |                                        |\n",
      "|           2,015 |          48,070 | OAK GROVE R-VI                 |           |           2,014 | MET       | NOT MET   |           | NOT MET  |                         0 |                                        |\n",
      "|           2,015 |          48,078 | KANSAS CITY 33                 |      True |           2,014 | MET       | NOT MET   | NOT MET   | NOT MET  |                         7 | Title III District Improvement Year 4  |\n",
      "|           2,015 |          48,901 | UNIVERSITY ACADEMY             |           |           2,014 | NOT MET   | NOT MET   |           | NOT MET  |                         0 |                                        |\n",
      "|           2,015 |          48,904 | HOGAN PREPARATORY ACADEMY      |           |           2,014 | MET       | NOT MET   |           | NOT MET  |                         0 |                                        |\n",
      "|           2,015 |          48,909 | ALLEN VILLAGE                  |      True |           2,014 | MET       | NOT MET   | NOT MET   | NOT MET  |                         4 | Title III District Improvement Year 4  |\n",
      "|           2,015 |          48,910 | LEE A. TOLBERT COM. ACADEMY    |           |           2,014 |           | NOT MET   |           | NOT MET  |                         0 |                                        |\n",
      "|           2,015 |          48,911 | B. BANNEKER ACADEMY            |           |           2,014 |           | NOT MET   |           | NOT MET  |                         0 |                                        |\n",
      "|           2,015 |          48,912 | DELLA LAMB ELEM.               |      True |           2,014 | MET       | NOT MET   | NOT MET   | NOT MET  |                         7 | Title III District Improvement Year 4  |\n",
      "|           2,015 |          48,913 | GORDON PARKS ELEM.             |           |           2,014 |           | NOT MET   |           | NOT MET  |                         0 |                                        |\n",
      "|           2,015 |          48,915 | SCUOLA VITA NUOVA              |      True |           2,014 | MET       | NOT MET   | NOT MET   | NOT MET  |                         7 | Title III District Improvement Year 4  |\n",
      "|           2,015 |          48,920 | HOPE ACADEMY                   |           |           2,014 | MET       | NOT MET   |           | NOT MET  |                         0 |                                        |\n",
      "|           2,015 |          48,924 | EWING MARION KAUFFMAN SCHOOL   |           |           2,014 | MET       | NOT MET   | NOT MET   | NOT MET  |                         0 |                                        |\n",
      "|           2,015 |          48,925 | HOPE LEADERSHIP ACADEMY        |           |           2,014 |           | NOT MET   |           | NOT MET  |                         0 |                                        |\n",
      "|           2,015 |          49,132 | CARL JUNCTION R-I              |           |           2,014 | MET       | NOT MET   |           | NOT MET  |                         0 |                                        |\n",
      "|           2,015 |          49,137 | JASPER CO. R-V                 |           |           2,014 | MET       | NOT MET   |           | NOT MET  |                         0 |                                        |\n",
      "|           2,015 |          49,140 | SARCOXIE R-II                  |           |           2,014 | NOT MET   | NOT MET   |           | NOT MET  |                         0 |                                        |\n",
      "|           2,015 |          49,142 | CARTHAGE R-IX                  |      True |           2,014 | MET       | NOT MET   | NOT MET   | NOT MET  |                         7 | Title III District Improvement Year 4  |\n",
      "|           2,015 |          50,005 | DUNKLIN R-V                    |           |           2,014 | NOT MET   | NOT MET   |           | NOT MET  |                         0 |                                        |\n",
      "|           2,015 |          50,006 | FESTUS R-VI                    |           |           2,014 | MET       | NOT MET   |           | NOT MET  |                         0 |                                        |\n",
      "|           2,015 |          51,152 | HOLDEN R-III                   |           |           2,014 | MET       | NOT MET   |           | NOT MET  |                         0 |                                        |\n",
      "|           2,015 |          51,154 | JOHNSON CO. R-VII              |           |           2,014 | NOT MET   | NOT MET   |           | NOT MET  |                         0 |                                        |\n",
      "|           2,015 |          51,155 | KNOB NOSTER R-VIII             |           |           2,014 | MET       | NOT MET   |           | NOT MET  |                         0 |                                        |\n",
      "|           2,015 |          51,156 | LEETON R-X                     |           |           2,014 | NOT MET   | NOT MET   |           | NOT MET  |                         0 |                                        |\n",
      "|           2,015 |          51,159 | WARRENSBURG R-VI               |           |           2,014 | MET       | NOT MET   |           | NOT MET  |                         0 |                                        |\n",
      "|           2,015 |          54,037 | CONCORDIA R-II                 |           |           2,014 | MET       | NOT MET   |           | NOT MET  |                         0 |                                        |\n",
      "|           2,015 |          54,039 | LAFAYETTE CO. C-1              |           |           2,014 | MET       | NOT MET   |           | NOT MET  |                         0 |                                        |\n",
      "|           2,015 |          54,041 | ODESSA R-VII                   |           |           2,014 | MET       | NOT MET   |           | NOT MET  |                         0 |                                        |\n",
      "|           2,015 |          54,042 | SANTA FE R-X                   |           |           2,014 | MET       | NOT MET   |           | NOT MET  |                         0 |                                        |\n",
      "|           2,015 |          54,045 | LEXINGTON R-V                  |           |           2,014 | MET       | NOT MET   |           | NOT MET  |                         0 |                                        |\n",
      "|           2,015 |          55,105 | PIERCE CITY R-VI               |           |           2,014 | MET       | NOT MET   |           | NOT MET  |                         0 |                                        |\n",
      "|           2,015 |          55,106 | MARIONVILLE R-IX               |           |           2,014 |           | NOT MET   |           | NOT MET  |                         0 |                                        |\n",
      "|           2,015 |          55,108 | MT. VERNON R-V                 |           |           2,014 | MET       | NOT MET   |           | NOT MET  |                         0 |                                        |\n",
      "|           2,015 |          55,110 | AURORA R-VIII                  |      True |           2,014 | MET       | NOT MET   | NOT MET   | NOT MET  |                         4 | Title III District Improvement Year 4  |\n",
      "|           2,015 |          55,111 | VERONA R-VII                   |      True |           2,014 | MET       | NOT MET   | NOT MET   | NOT MET  |                         5 | Title III District Improvement Year 4  |\n",
      "|           2,015 |          57,001 | SILEX R-I                      |           |           2,014 | MET       | NOT MET   |           | NOT MET  |                         0 |                                        |\n",
      "|           2,015 |          57,002 | ELSBERRY R-II                  |           |           2,014 | MET       | NOT MET   |           | NOT MET  |                         0 |                                        |\n",
      "|           2,015 |          57,004 | WINFIELD R-IV                  |           |           2,014 | MET       | NOT MET   |           | NOT MET  |                         0 |                                        |\n",
      "|           2,015 |          58,106 | LINN CO. R-I                   |           |           2,014 | MET       | NOT MET   |           | NOT MET  |                         0 |                                        |\n",
      "|           2,015 |          58,109 | MARCELINE R-V                  |           |           2,014 | NOT MET   | NOT MET   |           | NOT MET  |                         0 |                                        |\n",
      "|           2,015 |          58,112 | BROOKFIELD R-III               |           |           2,014 | MET       | NOT MET   |           | NOT MET  |                         0 |                                        |\n",
      "|           2,015 |          59,117 | CHILLICOTHE R-II               |           |           2,014 | NOT MET   | NOT MET   |           | NOT MET  |                         0 |                                        |\n",
      "|           2,015 |          61,156 | MACON CO. R-I                  |           |           2,014 |           | NOT MET   |           | NOT MET  |                         0 |                                        |\n",
      "|           2,015 |          64,072 | MARION CO. R-II                |           |           2,014 |           | NOT MET   |           | NOT MET  |                         0 |                                        |\n",
      "|           2,015 |          64,074 | PALMYRA R-I                    |           |           2,014 | MET       | NOT MET   |           | NOT MET  |                         0 |                                        |\n",
      "|           2,015 |          66,102 | ELDON R-I                      |           |           2,014 | NOT MET   | NOT MET   |           | NOT MET  |                         0 |                                        |\n",
      "|           2,015 |          66,105 | SCHOOL OF THE OSAGE            |           |           2,014 | NOT MET   | NOT MET   |           | NOT MET  |                         0 |                                        |\n",
      "|           2,015 |          67,055 | EAST PRAIRIE R-II              |           |           2,014 | NOT MET   | NOT MET   |           | NOT MET  |                         0 |                                        |\n",
      "|           2,015 |          68,075 | CLARKSBURG C-2                 |           |           2,014 |           | NOT MET   |           | NOT MET  |                         0 |                                        |\n",
      "|           2,015 |          70,093 | MONTGOMERY CO. R-II            |           |           2,014 | MET       | NOT MET   |           | NOT MET  |                         0 |                                        |\n",
      "|           2,015 |          72,074 | NEW MADRID CO. R-I             |           |           2,014 | MET       | NOT MET   |           | NOT MET  |                         0 |                                        |\n",
      "|           2,015 |          73,102 | DIAMOND R-IV                   |           |           2,014 | MET       | NOT MET   |           | NOT MET  |                         0 |                                        |\n",
      "|           2,015 |          73,106 | SENECA R-VII                   |           |           2,014 | MET       | NOT MET   |           | NOT MET  |                         0 |                                        |\n",
      "|           2,015 |          73,108 | NEOSHO R-V                     |      True |           2,014 | MET       | NOT MET   | NOT MET   | NOT MET  |                         7 | Title III District Improvement Year 4  |\n",
      "|           2,015 |          74,201 | MARYVILLE R-II                 |           |           2,014 | MET       | NOT MET   |           | NOT MET  |                         0 |                                        |\n",
      "|           2,015 |          75,085 | THAYER R-II                    |           |           2,014 |           | NOT MET   |           | NOT MET  |                         0 |                                        |\n",
      "|           2,015 |          75,086 | OREGON-HOWELL R-III            |           |           2,014 | NOT MET   | NOT MET   |           | NOT MET  |                         0 |                                        |\n",
      "|           2,015 |          75,087 | ALTON R-IV                     |           |           2,014 |           | NOT MET   |           | NOT MET  |                         0 |                                        |\n",
      "|           2,015 |          78,012 | CARUTHERSVILLE 18              |           |           2,014 | MET       | NOT MET   |           | NOT MET  |                         0 |                                        |\n",
      "|           2,015 |          79,077 | PERRY CO. 32                   |           |           2,014 | MET       | NOT MET   |           | NOT MET  |                         0 |                                        |\n",
      "|           2,015 |          80,116 | PETTIS CO. R-V                 |           |           2,014 | NOT MET   | NOT MET   |           | NOT MET  |                         0 |                                        |\n",
      "|           2,015 |          80,119 | SMITHTON R-VI                  |           |           2,014 | MET       | NOT MET   |           | NOT MET  |                         0 |                                        |\n",
      "|           2,015 |          81,094 | ST. JAMES R-I                  |           |           2,014 | MET       | NOT MET   |           | NOT MET  |                         0 |                                        |\n",
      "|           2,015 |          81,096 | ROLLA 31                       |      True |           2,014 | MET       | NOT MET   | NOT MET   | NOT MET  |                         4 | Title III District Improvement Year 4  |\n",
      "|           2,015 |          82,108 | LOUISIANA R-II                 |           |           2,014 | NOT MET   | NOT MET   |           | NOT MET  |                         0 |                                        |\n",
      "|           2,015 |          83,003 | PLATTE CO. R-III               |      True |           2,014 | MET       | NOT MET   | NOT MET   | NOT MET  |                         2 | Title III District Improvement Year 2  |\n",
      "|           2,015 |          84,005 | MARION C. EARLY R-V            |           |           2,014 | NOT MET   | NOT MET   |           | NOT MET  |                         0 |                                        |\n",
      "|           2,015 |          84,006 | PLEASANT HOPE R-VI             |           |           2,014 | MET       | NOT MET   |           | NOT MET  |                         0 |                                        |\n",
      "|           2,015 |          85,044 | RICHLAND R-IV                  |           |           2,014 |           | NOT MET   |           | NOT MET  |                         0 |                                        |\n",
      "|           2,015 |          85,048 | DIXON R-I                      |           |           2,014 | NOT MET   | NOT MET   |           | NOT MET  |                         0 |                                        |\n",
      "|           2,015 |          85,049 | CROCKER R-II                   |           |           2,014 | NOT MET   | NOT MET   |           | NOT MET  |                         0 |                                        |\n",
      "|           2,015 |          88,080 | WESTRAN R-I                    |           |           2,014 |           | NOT MET   |           | NOT MET  |                         0 |                                        |\n",
      "|           2,015 |          89,089 | RICHMOND R-XVI                 |           |           2,014 | NOT MET   | NOT MET   |           | NOT MET  |                         0 |                                        |\n",
      "|           2,015 |          90,078 | LESTERVILLE R-IV               |           |           2,014 | NOT MET   | NOT MET   |           | NOT MET  |                         0 |                                        |\n",
      "|           2,015 |          91,092 | DONIPHAN R-I                   |           |           2,014 |           | NOT MET   |           | NOT MET  |                         0 |                                        |\n",
      "|           2,015 |          92,091 | ORCHARD FARM R-V               |           |           2,014 | NOT MET   | NOT MET   |           | NOT MET  |                         0 |                                        |\n",
      "|           2,015 |          94,083 | NORTH ST. FRANCOIS CO. R-I     |           |           2,014 | MET       | NOT MET   |           | NOT MET  |                         0 |                                        |\n",
      "|           2,015 |          95,059 | STE. GENEVIEVE CO. R-II        |           |           2,014 | NOT MET   | NOT MET   |           | NOT MET  |                         0 |                                        |\n",
      "|           2,015 |          96,098 | AFFTON 101                     |      True |           2,014 | MET       | NOT MET   | NOT MET   | NOT MET  |                         7 | Title III District Improvement Year 4  |\n",
      "|           2,015 |          96,099 | BAYLESS                        |      True |           2,014 | MET       | NOT MET   | NOT MET   | NOT MET  |                         6 | Title III District Improvement Year 4  |\n",
      "|           2,015 |          96,101 | BRENTWOOD                      |           |           2,014 | MET       | NOT MET   |           | NOT MET  |                         0 |                                        |\n",
      "|           2,015 |          96,103 | HANCOCK PLACE                  |      True |           2,014 | MET       | NOT MET   | NOT MET   | NOT MET  |                         7 | Title III District Improvement Year 4  |\n",
      "|           2,015 |          96,104 | JENNINGS                       |           |           2,014 | NOT MET   | NOT MET   |           | NOT MET  |                         0 |                                        |\n",
      "|           2,015 |          96,110 | RITENOUR                       |      True |           2,014 | MET       | NOT MET   | NOT MET   | NOT MET  |                         7 | Title III District Improvement Year 4  |\n",
      "|           2,015 |          96,111 | RIVERVIEW GARDENS              |           |           2,014 | MET       | NOT MET   |           | NOT MET  |                         0 |                                        |\n",
      "|           2,015 |          96,112 | UNIVERSITY CITY                |      True |           2,014 | MET       | NOT MET   | NOT MET   | NOT MET  |                         2 | Title III District Improvement Year 2  |\n",
      "|           2,015 |          97,130 | SLATER                         |           |           2,014 | NOT MET   | NOT MET   |           | NOT MET  |                         0 |                                        |\n",
      "|           2,015 |         100,060 | CHAFFEE R-II                   |           |           2,014 | MET       | NOT MET   |           | NOT MET  |                         0 |                                        |\n",
      "|           2,015 |         100,061 | SCOTT CO. R-IV                 |           |           2,014 | MET       | NOT MET   |           | NOT MET  |                         0 |                                        |\n",
      "|           2,015 |         100,063 | SIKESTON R-6                   |           |           2,014 | NOT MET   | NOT MET   |           | NOT MET  |                         0 |                                        |\n",
      "|           2,015 |         100,064 | KELSO C-7                      |           |           2,014 | MET       | NOT MET   |           | NOT MET  |                         0 |                                        |\n",
      "|           2,015 |         102,081 | NORTH SHELBY                   |           |           2,014 | MET       | NOT MET   |           | NOT MET  |                         0 |                                        |\n",
      "|           2,015 |         103,128 | BELL CITY R-II                 |           |           2,014 |           | NOT MET   |           | NOT MET  |                         0 |                                        |\n",
      "|           2,015 |         103,129 | ADVANCE R-IV                   |           |           2,014 |           | NOT MET   |           | NOT MET  |                         0 |                                        |\n",
      "|           2,015 |         103,132 | DEXTER R-XI                    |           |           2,014 | NOT MET   | NOT MET   |           | NOT MET  |                         0 |                                        |\n",
      "|           2,015 |         103,135 | BERNIE R-XIII                  |           |           2,014 | NOT MET   | NOT MET   |           | NOT MET  |                         0 |                                        |\n",
      "|           2,015 |         104,044 | REEDS SPRING R-IV              |           |           2,014 | NOT MET   | NOT MET   |           | NOT MET  |                         0 |                                        |\n",
      "|           2,015 |         105,123 | GREEN CITY R-I                 |           |           2,014 | MET       | NOT MET   |           | NOT MET  |                         0 |                                        |\n",
      "|           2,015 |         105,124 | MILAN C-2                      |      True |           2,014 | MET       | NOT MET   | NOT MET   | NOT MET  |                         7 | Title III District Improvement Year 4  |\n",
      "|           2,015 |         105,125 | NEWTOWN-HARRIS R-III           |           |           2,014 | MET       | NOT MET   |           | NOT MET  |                         0 |                                        |\n",
      "|           2,015 |         106,005 | HOLLISTER R-V                  |           |           2,014 | NOT MET   | NOT MET   | NOT MET   | NOT MET  |                         0 |                                        |\n",
      "|           2,015 |         106,006 | KIRBYVILLE R-VI                |           |           2,014 | MET       | NOT MET   |           | NOT MET  |                         0 |                                        |\n",
      "|           2,015 |         108,142 | NEVADA R-V                     |           |           2,014 | MET       | NOT MET   |           | NOT MET  |                         0 |                                        |\n",
      "|           2,015 |         108,144 | SHELDON R-VIII                 |           |           2,014 |           | NOT MET   |           | NOT MET  |                         0 |                                        |\n",
      "|           2,015 |         110,029 | POTOSI R-III                   |           |           2,014 | MET       | NOT MET   |           | NOT MET  |                         0 |                                        |\n",
      "|           2,015 |         111,086 | GREENVILLE R-II                |           |           2,014 |           | NOT MET   |           | NOT MET  |                         0 |                                        |\n",
      "|           2,015 |         112,102 | MARSHFIELD R-I                 |           |           2,014 | MET       | NOT MET   |           | NOT MET  |                         0 |                                        |\n",
      "|           2,015 |         112,103 | SEYMOUR R-II                   |           |           2,014 | NOT MET   | NOT MET   |           | NOT MET  |                         0 |                                        |\n",
      "|           2,015 |         115,115 | ST. LOUIS CITY                 |      True |           2,014 | MET       | NOT MET   | NOT MET   | NOT MET  |                         7 | Title III District Improvement Year 4  |\n",
      "|           2,015 |         115,903 | ST. LOUIS CHARTER SCHOOL       |      True |           2,014 | MET       | NOT MET   | NOT MET   | NOT MET  |                         7 | Title III District Improvement Year 4  |\n",
      "|           2,015 |         115,906 | CONFLUENCE ACADEMIES           |      True |           2,014 | MET       | NOT MET   | NOT MET   | NOT MET  |                         7 | Title III District Improvement Year 4  |\n",
      "|           2,015 |         115,912 | ST LOUIS LANG IMMERSION SCHOOL |           |           2,014 | MET       | NOT MET   |           | NOT MET  |                         0 |                                        |\n",
      "|           2,015 |         115,916 | GATEWAY SCIENCE ACAD/ST LOUIS  |           |           2,014 | MET       | NOT MET   |           | NOT MET  |                         0 |                                        |\n",
      "|           2,015 |         115,918 | GRAND CENTER ARTS ACADEMY      |           |           2,014 | MET       | NOT MET   |           | NOT MET  |                         0 |                                        |\n",
      "|           2,015 |         115,923 | EAGLE COLLEGE PREP ENDEAVOR    |           |           2,014 | MET       | NOT MET   |           | NOT MET  |                         0 |                                        |\n",
      "|-----------------+-----------------+--------------------------------+-----------+-----------------+-----------+-----------+-----------+----------+---------------------------+----------------------------------------|\n"
     ]
    }
   ],
   "source": [
    "schools_not_meeting_AMAO2_2014 = standards.where(lambda row: row['AMAO2_MET'] == \"NOT MET\" ).where (lambda row: row ['YEAR_ASSESSMENT'] == 2014)\n",
    "schools_not_meeting_AMAO2_2014.print_table()"
   ]
  },
  {
   "cell_type": "code",
   "execution_count": 79,
   "metadata": {
    "collapsed": false
   },
   "outputs": [
    {
     "name": "stdout",
     "output_type": "stream",
     "text": [
      "175\n"
     ]
    }
   ],
   "source": [
    "num_schools_not_meeting_AMAO2_2014 = len(schools_not_meeting_AMAO2_2014.rows)\n",
    "print num_schools_not_meeting_AMAO2_2014"
   ]
  },
  {
   "cell_type": "code",
   "execution_count": 80,
   "metadata": {
    "collapsed": false
   },
   "outputs": [
    {
     "name": "stdout",
     "output_type": "stream",
     "text": [
      "|-----------------+-----------------+--------------------------------+-----------+-----------------+-----------+-----------+-----------+----------+---------------------------+----------------------------------------|\n",
      "|  YEAR_TITLE_III | COUNTY_DISTRICT | COUNTY_DISTRICT_NAME           | TITLE_III | YEAR_ASSESSMENT | AMAO1_MET | AMAO2_MET | AMAO3_MET | AMAO_MET | CONSECUTIVE_YEARS_NOT_MET | TITLE_III_STATUS                       |\n",
      "|-----------------+-----------------+--------------------------------+-----------+-----------------+-----------+-----------+-----------+----------+---------------------------+----------------------------------------|\n",
      "|           2,015 |           4,110 | MEXICO 59                      |      True |           2,014 | MET       | NOT MET   | NOT MET   | NOT MET  |                         6 | Title III District Improvement Year 4  |\n",
      "|           2,015 |           5,120 | WHEATON R-III                  |           |           2,014 | MET       | NOT MET   | NOT MET   | NOT MET  |                         0 |                                        |\n",
      "|           2,015 |           5,123 | CASSVILLE R-IV                 |      True |           2,014 | MET       | MET       | NOT MET   | NOT MET  |                         3 | Title III District Improvement Year 3  |\n",
      "|           2,015 |           5,124 | PURDY R-II                     |      True |           2,014 | MET       | NOT MET   | NOT MET   | NOT MET  |                         6 | Title III District Improvement Year 4  |\n",
      "|           2,015 |           5,128 | MONETT R-I                     |      True |           2,014 | MET       | MET       | NOT MET   | NOT MET  |                         3 | Title III District Improvement Year 3  |\n",
      "|           2,015 |          10,093 | COLUMBIA 93                    |      True |           2,014 | MET       | MET       | NOT MET   | NOT MET  |                         7 | Title III District Improvement Year 4  |\n",
      "|           2,015 |          11,082 | ST. JOSEPH                     |      True |           2,014 | MET       | MET       | NOT MET   | NOT MET  |                         6 | Title III District Improvement Year 4  |\n",
      "|           2,015 |          15,002 | CAMDENTON R-III                |      True |           2,014 | MET       | MET       | NOT MET   | NOT MET  |                         7 | Title III District Improvement Year 4  |\n",
      "|           2,015 |          16,096 | CAPE GIRARDEAU 63              |      True |           2,014 | MET       | MET       | NOT MET   | NOT MET  |                         7 | Title III District Improvement Year 4  |\n",
      "|           2,015 |          19,152 | BELTON 124                     |      True |           2,014 | MET       | NOT MET   | NOT MET   | NOT MET  |                         2 | Title III District Improvement Year 2  |\n",
      "|           2,015 |          22,089 | Nixa Public Schools            |           |           2,014 | MET       | MET       | NOT MET   | NOT MET  |                         0 |                                        |\n",
      "|           2,015 |          24,090 | LIBERTY 53                     |      True |           2,014 | MET       | MET       | NOT MET   | NOT MET  |                         6 | Title III District Improvement Year 4  |\n",
      "|           2,015 |          24,093 | NORTH KANSAS CITY 74           |      True |           2,014 | MET       | MET       | NOT MET   | NOT MET  |                         7 | Title III District Improvement Year 4  |\n",
      "|           2,015 |          26,006 | JEFFERSON CITY                 |      True |           2,014 | MET       | MET       | NOT MET   | NOT MET  |                         7 | Title III District Improvement Year 4  |\n",
      "|           2,015 |          35,097 | CLARKTON C-4                   |           |           2,014 | MET       | NOT MET   | NOT MET   | NOT MET  |                         0 |                                        |\n",
      "|           2,015 |          35,098 | SENATH-HORNERSVILLE C-8        |      True |           2,014 | MET       | NOT MET   | NOT MET   | NOT MET  |                         7 | Title III District Improvement Year 4  |\n",
      "|           2,015 |          36,139 | WASHINGTON                     |      True |           2,014 | MET       | NOT MET   | NOT MET   | NOT MET  |                         4 | Title III District Improvement Year 4  |\n",
      "|           2,015 |          39,133 | WILLARD R-II                   |      True |           2,014 | MET       | MET       | NOT MET   | NOT MET  |                         6 | Title III District Improvement Year 4  |\n",
      "|           2,015 |          39,141 | SPRINGFIELD R-XII              |      True |           2,014 | MET       | MET       | NOT MET   | NOT MET  |                         7 | Title III District Improvement Year 4  |\n",
      "|           2,015 |          46,131 | WILLOW SPRINGS R-IV            |      True |           2,014 | MET       | NOT MET   | NOT MET   | NOT MET  |                         7 | Title III District Improvement Year 4  |\n",
      "|           2,015 |          48,066 | FORT OSAGE R-I                 |      True |           2,014 | MET       | MET       | NOT MET   | NOT MET  |                         2 | Title III District Improvement Year 2  |\n",
      "|           2,015 |          48,068 | BLUE SPRINGS R-IV              |      True |           2,014 | MET       | MET       | NOT MET   | NOT MET  |                         7 | Title III District Improvement Year 4  |\n",
      "|           2,015 |          48,071 | LEE'S SUMMIT R-VII             |      True |           2,014 | MET       | MET       | NOT MET   | NOT MET  |                         6 | Title III District Improvement Year 4  |\n",
      "|           2,015 |          48,072 | HICKMAN MILLS C-1              |      True |           2,014 | MET       | MET       | NOT MET   | NOT MET  |                         7 | Title III District Improvement Year 4  |\n",
      "|           2,015 |          48,073 | RAYTOWN C-2                    |      True |           2,014 | MET       | MET       | NOT MET   | NOT MET  |                         7 | Title III District Improvement Year 4  |\n",
      "|           2,015 |          48,074 | GRANDVIEW C-4                  |      True |           2,014 | MET       | MET       | NOT MET   | NOT MET  |                         7 | Title III District Improvement Year 4  |\n",
      "|           2,015 |          48,077 | INDEPENDENCE 30                |      True |           2,014 | MET       | MET       | NOT MET   | NOT MET  |                         7 | Title III District Improvement Year 4  |\n",
      "|           2,015 |          48,078 | KANSAS CITY 33                 |      True |           2,014 | MET       | NOT MET   | NOT MET   | NOT MET  |                         7 | Title III District Improvement Year 4  |\n",
      "|           2,015 |          48,080 | CENTER 58                      |      True |           2,014 | MET       | MET       | NOT MET   | NOT MET  |                         4 | Title III District Improvement Year 4  |\n",
      "|           2,015 |          48,902 | ALTA VISTA CHARTER SCH.        |      True |           2,014 | MET       | MET       | NOT MET   | NOT MET  |                         1 | Title III District Improvement Year 1  |\n",
      "|           2,015 |          48,909 | ALLEN VILLAGE                  |      True |           2,014 | MET       | NOT MET   | NOT MET   | NOT MET  |                         4 | Title III District Improvement Year 4  |\n",
      "|           2,015 |          48,912 | DELLA LAMB ELEM.               |      True |           2,014 | MET       | NOT MET   | NOT MET   | NOT MET  |                         7 | Title III District Improvement Year 4  |\n",
      "|           2,015 |          48,915 | SCUOLA VITA NUOVA              |      True |           2,014 | MET       | NOT MET   | NOT MET   | NOT MET  |                         7 | Title III District Improvement Year 4  |\n",
      "|           2,015 |          48,918 | KIPP: ENDEAVOR ACADEMY         |           |           2,014 | NOT MET   | MET       | NOT MET   | NOT MET  |                         0 |                                        |\n",
      "|           2,015 |          48,922 | FRONTIER SCHOOL OF INNOVATION  |      True |           2,014 | MET       | MET       | NOT MET   | NOT MET  |                         4 | Title III District Improvement Year 4  |\n",
      "|           2,015 |          48,924 | EWING MARION KAUFFMAN SCHOOL   |           |           2,014 | MET       | NOT MET   | NOT MET   | NOT MET  |                         0 |                                        |\n",
      "|           2,015 |          49,142 | CARTHAGE R-IX                  |      True |           2,014 | MET       | NOT MET   | NOT MET   | NOT MET  |                         7 | Title III District Improvement Year 4  |\n",
      "|           2,015 |          49,144 | WEBB CITY R-VII                |      True |           2,014 | MET       | MET       | NOT MET   | NOT MET  |                         1 | Title III District Improvement Year 1  |\n",
      "|           2,015 |          49,148 | JOPLIN SCHOOLS                 |      True |           2,014 | MET       | MET       | NOT MET   | NOT MET  |                         7 | Title III District Improvement Year 4  |\n",
      "|           2,015 |          50,001 | NORTHWEST R-I                  |      True |           2,014 | MET       | MET       | NOT MET   | NOT MET  |                         1 | Title III District Improvement Year 1  |\n",
      "|           2,015 |          50,012 | FOX C-6                        |      True |           2,014 | MET       | MET       | NOT MET   | NOT MET  |                         6 | Title III District Improvement Year 4  |\n",
      "|           2,015 |          53,113 | LEBANON R-III                  |           |           2,014 | MET       | MET       | NOT MET   | NOT MET  |                         0 |                                        |\n",
      "|           2,015 |          55,110 | AURORA R-VIII                  |      True |           2,014 | MET       | NOT MET   | NOT MET   | NOT MET  |                         4 | Title III District Improvement Year 4  |\n",
      "|           2,015 |          55,111 | VERONA R-VII                   |      True |           2,014 | MET       | NOT MET   | NOT MET   | NOT MET  |                         5 | Title III District Improvement Year 4  |\n",
      "|           2,015 |          57,003 | TROY R-III                     |      True |           2,014 | MET       | MET       | NOT MET   | NOT MET  |                         7 | Title III District Improvement Year 4  |\n",
      "|           2,015 |          60,077 | MCDONALD CO. R-I               |      True |           2,014 | MET       | MET       | NOT MET   | NOT MET  |                         7 | Title III District Improvement Year 4  |\n",
      "|           2,015 |          68,070 | MONITEAU CO. R-I               |      True |           2,014 | MET       | MET       | NOT MET   | NOT MET  |                         7 | Title III District Improvement Year 4  |\n",
      "|           2,015 |          73,099 | EAST NEWTON CO. R-VI           |           |           2,014 | MET       | MET       | NOT MET   | NOT MET  |                         0 |                                        |\n",
      "|           2,015 |          73,108 | NEOSHO R-V                     |      True |           2,014 | MET       | NOT MET   | NOT MET   | NOT MET  |                         7 | Title III District Improvement Year 4  |\n",
      "|           2,015 |          80,118 | LA MONTE R-IV                  |      True |           2,014 | MET       | MET       | NOT MET   | NOT MET  |                         7 | Title III District Improvement Year 4  |\n",
      "|           2,015 |          80,125 | SEDALIA 200                    |      True |           2,014 | MET       | MET       | NOT MET   | NOT MET  |                         7 | Title III District Improvement Year 4  |\n",
      "|           2,015 |          81,096 | ROLLA 31                       |      True |           2,014 | MET       | NOT MET   | NOT MET   | NOT MET  |                         4 | Title III District Improvement Year 4  |\n",
      "|           2,015 |          83,003 | PLATTE CO. R-III               |      True |           2,014 | MET       | NOT MET   | NOT MET   | NOT MET  |                         2 | Title III District Improvement Year 2  |\n",
      "|           2,015 |          83,005 | PARK HILL                      |      True |           2,014 | MET       | MET       | NOT MET   | NOT MET  |                         2 | Title III District Improvement Year 2  |\n",
      "|           2,015 |          85,046 | WAYNESVILLE R-VI               |      True |           2,014 | MET       | MET       | NOT MET   | NOT MET  |                         2 | Title III District Improvement Year 2  |\n",
      "|           2,015 |          92,087 | FT. ZUMWALT R-II               |      True |           2,014 | MET       | MET       | NOT MET   | NOT MET  |                         7 | Title III District Improvement Year 4  |\n",
      "|           2,015 |          92,088 | FRANCIS HOWELL R-III           |      True |           2,014 | MET       | MET       | NOT MET   | NOT MET  |                         2 | Title III District Improvement Year 2  |\n",
      "|           2,015 |          92,089 | WENTZVILLE R-IV                |      True |           2,014 | MET       | MET       | NOT MET   | NOT MET  |                         2 | Title III District Improvement Year 2  |\n",
      "|           2,015 |          92,090 | ST. CHARLES R-VI               |      True |           2,014 | MET       | MET       | NOT MET   | NOT MET  |                         7 | Title III District Improvement Year 4  |\n",
      "|           2,015 |          96,088 | HAZELWOOD                      |      True |           2,014 | MET       | MET       | NOT MET   | NOT MET  |                         7 | Title III District Improvement Year 4  |\n",
      "|           2,015 |          96,089 | FERGUSON-FLORISSANT R-II       |      True |           2,014 | MET       | MET       | NOT MET   | NOT MET  |                         7 | Title III District Improvement Year 4  |\n",
      "|           2,015 |          96,090 | PATTONVILLE R-III              |      True |           2,014 | MET       | MET       | NOT MET   | NOT MET  |                         2 | Title III District Improvement Year 2  |\n",
      "|           2,015 |          96,091 | ROCKWOOD R-VI                  |      True |           2,014 | MET       | MET       | NOT MET   | NOT MET  |                         2 | Title III District Improvement Year 2  |\n",
      "|           2,015 |          96,092 | KIRKWOOD R-VII                 |           |           2,014 | MET       | MET       | NOT MET   | NOT MET  |                         0 |                                        |\n",
      "|           2,015 |          96,093 | LINDBERGH SCHOOLS              |      True |           2,014 | MET       | MET       | NOT MET   | NOT MET  |                         2 | Title III District Improvement Year 2  |\n",
      "|           2,015 |          96,094 | MEHLVILLE R-IX                 |      True |           2,014 | MET       | MET       | NOT MET   | NOT MET  |                         2 | Title III District Improvement Year 2  |\n",
      "|           2,015 |          96,095 | PARKWAY C-2                    |      True |           2,014 | MET       | MET       | NOT MET   | NOT MET  |                         2 | Title III District Improvement Year 2  |\n",
      "|           2,015 |          96,098 | AFFTON 101                     |      True |           2,014 | MET       | NOT MET   | NOT MET   | NOT MET  |                         7 | Title III District Improvement Year 4  |\n",
      "|           2,015 |          96,099 | BAYLESS                        |      True |           2,014 | MET       | NOT MET   | NOT MET   | NOT MET  |                         6 | Title III District Improvement Year 4  |\n",
      "|           2,015 |          96,103 | HANCOCK PLACE                  |      True |           2,014 | MET       | NOT MET   | NOT MET   | NOT MET  |                         7 | Title III District Improvement Year 4  |\n",
      "|           2,015 |          96,106 | LADUE                          |      True |           2,014 | MET       | MET       | NOT MET   | NOT MET  |                         2 | Title III District Improvement Year 2  |\n",
      "|           2,015 |          96,110 | RITENOUR                       |      True |           2,014 | MET       | NOT MET   | NOT MET   | NOT MET  |                         7 | Title III District Improvement Year 4  |\n",
      "|           2,015 |          96,112 | UNIVERSITY CITY                |      True |           2,014 | MET       | NOT MET   | NOT MET   | NOT MET  |                         2 | Title III District Improvement Year 2  |\n",
      "|           2,015 |          96,113 | VALLEY PARK                    |           |           2,014 | MET       | MET       | NOT MET   | NOT MET  |                         0 |                                        |\n",
      "|           2,015 |          97,129 | MARSHALL                       |      True |           2,014 | MET       | MET       | NOT MET   | NOT MET  |                         7 | Title III District Improvement Year 4  |\n",
      "|           2,015 |         105,124 | MILAN C-2                      |      True |           2,014 | MET       | NOT MET   | NOT MET   | NOT MET  |                         7 | Title III District Improvement Year 4  |\n",
      "|           2,015 |         106,004 | BRANSON R-IV                   |      True |           2,014 | MET       | MET       | NOT MET   | NOT MET  |                         4 | Title III District Improvement Year 4  |\n",
      "|           2,015 |         106,005 | HOLLISTER R-V                  |           |           2,014 | NOT MET   | NOT MET   | NOT MET   | NOT MET  |                         0 |                                        |\n",
      "|           2,015 |         109,002 | WRIGHT CITY R-II OF WARREN CO. |           |           2,014 | MET       | MET       | NOT MET   | NOT MET  |                         0 |                                        |\n",
      "|           2,015 |         109,003 | WARREN CO. R-III               |           |           2,014 | MET       | MET       | NOT MET   | NOT MET  |                         0 |                                        |\n",
      "|           2,015 |         115,115 | ST. LOUIS CITY                 |      True |           2,014 | MET       | NOT MET   | NOT MET   | NOT MET  |                         7 | Title III District Improvement Year 4  |\n",
      "|           2,015 |         115,903 | ST. LOUIS CHARTER SCHOOL       |      True |           2,014 | MET       | NOT MET   | NOT MET   | NOT MET  |                         7 | Title III District Improvement Year 4  |\n",
      "|           2,015 |         115,906 | CONFLUENCE ACADEMIES           |      True |           2,014 | MET       | NOT MET   | NOT MET   | NOT MET  |                         7 | Title III District Improvement Year 4  |\n",
      "|-----------------+-----------------+--------------------------------+-----------+-----------------+-----------+-----------+-----------+----------+---------------------------+----------------------------------------|\n"
     ]
    }
   ],
   "source": [
    "schools_not_meeting_AMAO3_2014 = standards.where(lambda row: row['AMAO3_MET'] == \"NOT MET\" ).where (lambda row: row ['YEAR_ASSESSMENT'] == 2014)\n",
    "schools_not_meeting_AMAO3_2014.print_table()"
   ]
  },
  {
   "cell_type": "code",
   "execution_count": 81,
   "metadata": {
    "collapsed": false
   },
   "outputs": [
    {
     "name": "stdout",
     "output_type": "stream",
     "text": [
      "83\n"
     ]
    }
   ],
   "source": [
    "num_schools_not_meeting_AMAO3_2014 = len(schools_not_meeting_AMAO3_2014.rows)\n",
    "print num_schools_not_meeting_AMAO3_2014"
   ]
  },
  {
   "cell_type": "code",
   "execution_count": 83,
   "metadata": {
    "collapsed": false
   },
   "outputs": [
    {
     "name": "stdout",
     "output_type": "stream",
     "text": [
      "|-----------------+-----------------+----------------------+-----------+-----------------+-----------+-----------+-----------+----------+---------------------------+-------------------------|\n",
      "|  YEAR_TITLE_III | COUNTY_DISTRICT | COUNTY_DISTRICT_NAME | TITLE_III | YEAR_ASSESSMENT | AMAO1_MET | AMAO2_MET | AMAO3_MET | AMAO_MET | CONSECUTIVE_YEARS_NOT_MET | TITLE_III_STATUS        |\n",
      "|-----------------+-----------------+----------------------+-----------+-----------------+-----------+-----------+-----------+----------+---------------------------+-------------------------|\n",
      "|           2,015 |          96,102 | CLAYTON              |      True |           2,014 | MET       | MET       | MET       | MET      |                         0 | Title III No Sanctions  |\n",
      "|-----------------+-----------------+----------------------+-----------+-----------------+-----------+-----------+-----------+----------+---------------------------+-------------------------|\n"
     ]
    }
   ],
   "source": [
    "schools_meeting_AMAO3_2014 = standards.where(lambda row: row['AMAO3_MET'] == \"MET\" ).where (lambda row: row ['YEAR_ASSESSMENT'] == 2014)\n",
    "schools_meeting_AMAO3_2014.print_table()"
   ]
  },
  {
   "cell_type": "markdown",
   "metadata": {},
   "source": [
    "Columbia Public Schools haven't met Missouri’s Annual Measurable Achievement Objectives for English Language Proficiency for six consecutive years. \n",
    "\n",
    "Annual Measurable Achievement Objectives (AMAOs) are standards for English Language Learner students set by the state as required by federal mandate. There are three specific goals districts must meet to pass the standards.\n",
    "\n",
    "•\tAMAO 1: calculated by the number of students showing improvement in learning English.\n",
    "•\tAMAO 2: calculated by the number of students achieving proficiency in English.\n",
    "•\tAMAO 3: calculated by English Language Learner scores on communication arts and mathematics standardized tests.(The standardized test in Missouri is the MAP. Students who have been in the country for more than a year are required to take the full MAP test regardless of their level of English language proficiency.)\n",
    "\n",
    "For every year that school districts fail to meet the AMAOs, state sanctions increase in severity. If a school fails any one of the three goals, they are considered to fail the standards. \n",
    "\n",
    "If a district doesn't reach the standards for four years or more, the state can technically remove federal funding (TITLE III) for English Language Learner students, require the district to change its curriculum, or ask the district to remove any personnel responsible for the failure.\n",
    "\n",
    "So far, the state has not taken any action against any school districts not meeting the standards – even those districts that continuously fail to meet the standards for multiple years. \n",
    "\n",
    "In assessment year 2014 (the most recently available school year), only one school district, Clayton, met all three AMAO goals listed above, thereby passing the standards. \n",
    "\n",
    "Columbia was one of 45 school districts to fail the standards for the 6th year consecutively. \n",
    "Apparently, some standards are harder to meet than others – in 2014, 53 school districts failed AMAO1, 175 school districts failed AMAO2, and 83 school districts failed AMAO3. \n",
    "\n",
    "It’s important to remember that for AMAO1, 2 or 3, some school districts have too small a population of English language learners (or students who are too new to the system to be tested). In the data, those districts are noted as NA or blank in the columns for AMAO1, 2 or 3. \n",
    "\n",
    "It appears that at least in 2014, AMAO3 was the most difficult goal to reach – only Clayton met AMAO3 and successfully avoided any Title III Sanctions (or the threat of them at least!).\n"
   ]
  }
 ],
 "metadata": {
  "kernelspec": {
   "display_name": "Python 2",
   "language": "python",
   "name": "python2"
  },
  "language_info": {
   "codemirror_mode": {
    "name": "ipython",
    "version": 2
   },
   "file_extension": ".py",
   "mimetype": "text/x-python",
   "name": "python",
   "nbconvert_exporter": "python",
   "pygments_lexer": "ipython2",
   "version": "2.7.10"
  }
 },
 "nbformat": 4,
 "nbformat_minor": 0
}
