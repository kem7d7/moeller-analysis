{
 "cells": [
  {
   "cell_type": "code",
   "execution_count": 55,
   "metadata": {
    "collapsed": true
   },
   "outputs": [],
   "source": [
    "import csv\n",
    "import agate"
   ]
  },
  {
   "cell_type": "code",
   "execution_count": 56,
   "metadata": {
    "collapsed": false
   },
   "outputs": [],
   "source": [
    "tester = agate.TypeTester()"
   ]
  },
  {
   "cell_type": "code",
   "execution_count": 57,
   "metadata": {
    "collapsed": false
   },
   "outputs": [],
   "source": [
    "standards = agate.Table.from_csv('english.csv', tester)"
   ]
  },
  {
   "cell_type": "code",
   "execution_count": 66,
   "metadata": {
    "collapsed": false
   },
   "outputs": [
    {
     "name": "stdout",
     "output_type": "stream",
     "text": [
      "|-----------------+-----------------+--------------------------+-----------+-----------------+-----------+-----------+-----------+----------+---------------------------+----------------------------------------|\n",
      "|  YEAR_TITLE_III | COUNTY_DISTRICT | COUNTY_DISTRICT_NAME     | TITLE_III | YEAR_ASSESSMENT | AMAO1_MET | AMAO2_MET | AMAO3_MET | AMAO_MET | CONSECUTIVE_YEARS_NOT_MET | TITLE_III_STATUS                       |\n",
      "|-----------------+-----------------+--------------------------+-----------+-----------------+-----------+-----------+-----------+----------+---------------------------+----------------------------------------|\n",
      "|           2,014 |           5,120 | WHEATON R-III            |      True |           2,013 | MET       | MET       | NOT MET   | NOT MET  |                         6 | Title III District Improvement Year 4  |\n",
      "|           2,014 |          10,093 | COLUMBIA 93              |      True |           2,013 | MET       | MET       | NOT MET   | NOT MET  |                         6 | Title III District Improvement Year 4  |\n",
      "|           2,014 |          15,002 | CAMDENTON R-III          |      True |           2,013 | MET       | MET       | NOT MET   | NOT MET  |                         6 | Title III District Improvement Year 4  |\n",
      "|           2,014 |          16,096 | CAPE GIRARDEAU 63        |      True |           2,013 | MET       | MET       | NOT MET   | NOT MET  |                         6 | Title III District Improvement Year 4  |\n",
      "|           2,014 |          24,093 | NORTH KANSAS CITY 74     |      True |           2,013 | MET       | MET       | NOT MET   | NOT MET  |                         6 | Title III District Improvement Year 4  |\n",
      "|           2,014 |          26,006 | JEFFERSON CITY           |      True |           2,013 | MET       | MET       | NOT MET   | NOT MET  |                         6 | Title III District Improvement Year 4  |\n",
      "|           2,014 |          35,098 | SENATH-HORNERSVILLE C-8  |      True |           2,013 | MET       | NOT MET   | NOT MET   | NOT MET  |                         6 | Title III District Improvement Year 4  |\n",
      "|           2,014 |          39,141 | SPRINGFIELD R-XII        |      True |           2,013 | MET       | MET       | NOT MET   | NOT MET  |                         6 | Title III District Improvement Year 4  |\n",
      "|           2,014 |          46,131 | WILLOW SPRINGS R-IV      |      True |           2,013 | MET       | NOT MET   | NOT MET   | NOT MET  |                         6 | Title III District Improvement Year 4  |\n",
      "|           2,014 |          48,068 | BLUE SPRINGS R-IV        |      True |           2,013 | MET       | MET       | NOT MET   | NOT MET  |                         6 | Title III District Improvement Year 4  |\n",
      "|           2,014 |          48,072 | HICKMAN MILLS C-1        |      True |           2,013 | MET       | MET       | NOT MET   | NOT MET  |                         6 | Title III District Improvement Year 4  |\n",
      "|           2,014 |          48,073 | RAYTOWN C-2              |      True |           2,013 | MET       | MET       | NOT MET   | NOT MET  |                         6 | Title III District Improvement Year 4  |\n",
      "|           2,014 |          48,074 | GRANDVIEW C-4            |      True |           2,013 | MET       | MET       | NOT MET   | NOT MET  |                         6 | Title III District Improvement Year 4  |\n",
      "|           2,014 |          48,077 | INDEPENDENCE 30          |      True |           2,013 | MET       | MET       | NOT MET   | NOT MET  |                         6 | Title III District Improvement Year 4  |\n",
      "|           2,014 |          48,078 | KANSAS CITY 33           |      True |           2,013 | MET       | NOT MET   | NOT MET   | NOT MET  |                         6 | Title III District Improvement Year 4  |\n",
      "|           2,014 |          48,912 | DELLA LAMB ELEM.         |      True |           2,013 | MET       | NOT MET   | NOT MET   | NOT MET  |                         6 | Title III District Improvement Year 4  |\n",
      "|           2,014 |          48,915 | SCUOLA VITA NUOVA        |      True |           2,013 | MET       | NOT MET   | NOT MET   | NOT MET  |                         6 | Title III District Improvement Year 4  |\n",
      "|           2,014 |          49,142 | CARTHAGE R-IX            |      True |           2,013 | MET       | MET       | NOT MET   | NOT MET  |                         6 | Title III District Improvement Year 4  |\n",
      "|           2,014 |          49,148 | JOPLIN SCHOOLS           |      True |           2,013 | MET       | MET       | NOT MET   | NOT MET  |                         6 | Title III District Improvement Year 4  |\n",
      "|           2,014 |          57,003 | TROY R-III               |      True |           2,013 | MET       | MET       | NOT MET   | NOT MET  |                         6 | Title III District Improvement Year 4  |\n",
      "|           2,014 |          60,077 | MCDONALD CO. R-I         |      True |           2,013 | MET       | MET       | NOT MET   | NOT MET  |                         6 | Title III District Improvement Year 4  |\n",
      "|           2,014 |          68,070 | MONITEAU CO. R-I         |      True |           2,013 | MET       | NOT MET   | NOT MET   | NOT MET  |                         6 | Title III District Improvement Year 4  |\n",
      "|           2,014 |          73,108 | NEOSHO R-V               |      True |           2,013 | MET       | MET       | NOT MET   | NOT MET  |                         6 | Title III District Improvement Year 4  |\n",
      "|           2,014 |          80,118 | LA MONTE R-IV            |      True |           2,013 | MET       | NOT MET   | NOT MET   | NOT MET  |                         6 | Title III District Improvement Year 4  |\n",
      "|           2,014 |          80,125 | SEDALIA 200              |      True |           2,013 | MET       | MET       | NOT MET   | NOT MET  |                         6 | Title III District Improvement Year 4  |\n",
      "|           2,014 |          92,087 | FT. ZUMWALT R-II         |      True |           2,013 | MET       | MET       | NOT MET   | NOT MET  |                         6 | Title III District Improvement Year 4  |\n",
      "|           2,014 |          92,090 | ST. CHARLES R-VI         |      True |           2,013 | MET       | MET       | NOT MET   | NOT MET  |                         6 | Title III District Improvement Year 4  |\n",
      "|           2,014 |          96,088 | HAZELWOOD                |      True |           2,013 | MET       | MET       | NOT MET   | NOT MET  |                         6 | Title III District Improvement Year 4  |\n",
      "|           2,014 |          96,089 | FERGUSON-FLORISSANT R-II |      True |           2,013 | MET       | MET       | NOT MET   | NOT MET  |                         6 | Title III District Improvement Year 4  |\n",
      "|           2,014 |          96,098 | AFFTON 101               |      True |           2,013 | MET       | MET       | NOT MET   | NOT MET  |                         6 | Title III District Improvement Year 4  |\n",
      "|           2,014 |          96,103 | HANCOCK PLACE            |      True |           2,013 | NOT MET   | MET       | NOT MET   | NOT MET  |                         6 | Title III District Improvement Year 4  |\n",
      "|           2,014 |          96,110 | RITENOUR                 |      True |           2,013 | MET       | NOT MET   | NOT MET   | NOT MET  |                         6 | Title III District Improvement Year 4  |\n",
      "|           2,014 |          97,129 | MARSHALL                 |      True |           2,013 | MET       | MET       | NOT MET   | NOT MET  |                         6 | Title III District Improvement Year 4  |\n",
      "|           2,014 |         105,124 | MILAN C-2                |      True |           2,013 | MET       | MET       | NOT MET   | NOT MET  |                         6 | Title III District Improvement Year 4  |\n",
      "|           2,014 |         115,115 | ST. LOUIS CITY           |      True |           2,013 | MET       | MET       | NOT MET   | NOT MET  |                         6 | Title III District Improvement Year 4  |\n",
      "|           2,014 |         115,903 | ST. LOUIS CHARTER SCHOOL |      True |           2,013 | MET       | NOT MET   | NOT MET   | NOT MET  |                         6 | Title III District Improvement Year 4  |\n",
      "|           2,014 |         115,906 | CONFLUENCE ACADEMIES     |      True |           2,013 | MET       | MET       | NOT MET   | NOT MET  |                         6 | Title III District Improvement Year 4  |\n",
      "|           2,015 |           4,110 | MEXICO 59                |      True |           2,014 | MET       | NOT MET   | NOT MET   | NOT MET  |                         6 | Title III District Improvement Year 4  |\n",
      "|           2,015 |           5,124 | PURDY R-II               |      True |           2,014 | MET       | NOT MET   | NOT MET   | NOT MET  |                         6 | Title III District Improvement Year 4  |\n",
      "|           2,015 |          11,082 | ST. JOSEPH               |      True |           2,014 | MET       | MET       | NOT MET   | NOT MET  |                         6 | Title III District Improvement Year 4  |\n",
      "|           2,015 |          24,090 | LIBERTY 53               |      True |           2,014 | MET       | MET       | NOT MET   | NOT MET  |                         6 | Title III District Improvement Year 4  |\n",
      "|           2,015 |          39,133 | WILLARD R-II             |      True |           2,014 | MET       | MET       | NOT MET   | NOT MET  |                         6 | Title III District Improvement Year 4  |\n",
      "|           2,015 |          48,071 | LEE'S SUMMIT R-VII       |      True |           2,014 | MET       | MET       | NOT MET   | NOT MET  |                         6 | Title III District Improvement Year 4  |\n",
      "|           2,015 |          50,012 | FOX C-6                  |      True |           2,014 | MET       | MET       | NOT MET   | NOT MET  |                         6 | Title III District Improvement Year 4  |\n",
      "|           2,015 |          96,099 | BAYLESS                  |      True |           2,014 | MET       | NOT MET   | NOT MET   | NOT MET  |                         6 | Title III District Improvement Year 4  |\n",
      "|-----------------+-----------------+--------------------------+-----------+-----------------+-----------+-----------+-----------+----------+---------------------------+----------------------------------------|\n"
     ]
    }
   ],
   "source": [
    "six_years_not_met = standards.where(lambda column: column['CONSECUTIVE_YEARS_NOT_MET'] == 6)\n",
    "six_years_not_met.print_table()"
   ]
  },
  {
   "cell_type": "code",
   "execution_count": 65,
   "metadata": {
    "collapsed": false
   },
   "outputs": [
    {
     "name": "stdout",
     "output_type": "stream",
     "text": [
      "|-----------------+-----------------+-------------------------+-----------+-----------------+-----------+-----------+-----------+----------+---------------------------+-------------------------|\n",
      "|  YEAR_TITLE_III | COUNTY_DISTRICT | COUNTY_DISTRICT_NAME    | TITLE_III | YEAR_ASSESSMENT | AMAO1_MET | AMAO2_MET | AMAO3_MET | AMAO_MET | CONSECUTIVE_YEARS_NOT_MET | TITLE_III_STATUS        |\n",
      "|-----------------+-----------------+-------------------------+-----------+-----------------+-----------+-----------+-----------+----------+---------------------------+-------------------------|\n",
      "|           2,014 |          48,902 | ALTA VISTA CHARTER SCH. |      True |           2,013 | MET       | MET       |           | MET      |                         0 | Title III No Sanctions  |\n",
      "|           2,014 |          96,102 | CLAYTON                 |      True |           2,013 | MET       | MET       | MET       | MET      |                         0 | Title III No Sanctions  |\n",
      "|-----------------+-----------------+-------------------------+-----------+-----------------+-----------+-----------+-----------+----------+---------------------------+-------------------------|\n"
     ]
    }
   ],
   "source": [
    "no_sanctions = standards.where(lambda column: column['TITLE_III_STATUS'] == 'Title III No Sanctions').where(lambda column: column['YEAR_TITLE_III'] == 2014)\n",
    "no_sanctions.print_table()"
   ]
  },
  {
   "cell_type": "code",
   "execution_count": 64,
   "metadata": {
    "collapsed": false
   },
   "outputs": [
    {
     "ename": "AttributeError",
     "evalue": "'function' object has no attribute 'allow_tableset_proxy'",
     "output_type": "error",
     "traceback": [
      "\u001b[0;31m---------------------------------------------------------------------------\u001b[0m",
      "\u001b[0;31mAttributeError\u001b[0m                            Traceback (most recent call last)",
      "\u001b[0;32m<ipython-input-64-647075b1ae03>\u001b[0m in \u001b[0;36m<module>\u001b[0;34m()\u001b[0m\n\u001b[1;32m      1\u001b[0m \u001b[0mpass_2014\u001b[0m \u001b[0;34m=\u001b[0m \u001b[0mno_sanctions\u001b[0m\u001b[0;34m.\u001b[0m\u001b[0mgroup_by\u001b[0m\u001b[0;34m(\u001b[0m\u001b[0;34m'YEAR_TITLE_III'\u001b[0m\u001b[0;34m)\u001b[0m\u001b[0;34m\u001b[0m\u001b[0m\n\u001b[0;32m----> 2\u001b[0;31m \u001b[0mpass_2014\u001b[0m\u001b[0;34m.\u001b[0m\u001b[0mprint_table\u001b[0m\u001b[0;34m(\u001b[0m\u001b[0;34m)\u001b[0m\u001b[0;34m\u001b[0m\u001b[0m\n\u001b[0m",
      "\u001b[0;32m/Library/Python/2.7/site-packages/agate/tableset.pyc\u001b[0m in \u001b[0;36m__getattr__\u001b[0;34m(self, name)\u001b[0m\n\u001b[1;32m    117\u001b[0m         \u001b[0;31m# Proxy table methods\u001b[0m\u001b[0;34m\u001b[0m\u001b[0;34m\u001b[0m\u001b[0m\n\u001b[1;32m    118\u001b[0m         \u001b[0;32mif\u001b[0m \u001b[0mname\u001b[0m \u001b[0;32min\u001b[0m \u001b[0mTable\u001b[0m\u001b[0;34m.\u001b[0m\u001b[0m__dict__\u001b[0m\u001b[0;34m:\u001b[0m\u001b[0;34m\u001b[0m\u001b[0m\n\u001b[0;32m--> 119\u001b[0;31m             \u001b[0;32mif\u001b[0m \u001b[0mTable\u001b[0m\u001b[0;34m.\u001b[0m\u001b[0m__dict__\u001b[0m\u001b[0;34m[\u001b[0m\u001b[0mname\u001b[0m\u001b[0;34m]\u001b[0m\u001b[0;34m.\u001b[0m\u001b[0mallow_tableset_proxy\u001b[0m\u001b[0;34m:\u001b[0m\u001b[0;34m\u001b[0m\u001b[0m\n\u001b[0m\u001b[1;32m    120\u001b[0m                 \u001b[0;32mreturn\u001b[0m \u001b[0mTableMethodProxy\u001b[0m\u001b[0;34m(\u001b[0m\u001b[0mself\u001b[0m\u001b[0;34m,\u001b[0m \u001b[0mname\u001b[0m\u001b[0;34m)\u001b[0m\u001b[0;34m\u001b[0m\u001b[0m\n\u001b[1;32m    121\u001b[0m \u001b[0;34m\u001b[0m\u001b[0m\n",
      "\u001b[0;31mAttributeError\u001b[0m: 'function' object has no attribute 'allow_tableset_proxy'"
     ]
    }
   ],
   "source": [
    "avg_years_not_met_consecutively = standards.aggregate(agate.Mean('CONSECUTIVE_YEARS_NOT_MET'))"
   ]
  },
  {
   "cell_type": "code",
   "execution_count": null,
   "metadata": {
    "collapsed": true
   },
   "outputs": [],
   "source": []
  }
 ],
 "metadata": {
  "kernelspec": {
   "display_name": "Python 2",
   "language": "python",
   "name": "python2"
  },
  "language_info": {
   "codemirror_mode": {
    "name": "ipython",
    "version": 2
   },
   "file_extension": ".py",
   "mimetype": "text/x-python",
   "name": "python",
   "nbconvert_exporter": "python",
   "pygments_lexer": "ipython2",
   "version": "2.7.10"
  }
 },
 "nbformat": 4,
 "nbformat_minor": 0
}
